{
 "cells": [
  {
   "cell_type": "markdown",
   "metadata": {},
   "source": [
    "# Tatoeba: N-Gram Hashing\n",
    "\n",
    "Author: Pierre Nugues"
   ]
  },
  {
   "cell_type": "markdown",
   "metadata": {},
   "source": [
    "In this notbook, we will reduce the size of the n-gram vectors using hashing techniques\n",
    "\n",
    "This is a preliminary step to understand language detection and CLD3, https://github.com/google/cld3"
   ]
  },
  {
   "cell_type": "code",
   "execution_count": 2,
   "metadata": {},
   "outputs": [],
   "source": [
    "import random\n",
    "from collections import Counter\n",
    "import torch\n",
    "import matplotlib.pyplot as plt"
   ]
  },
  {
   "cell_type": "code",
   "execution_count": 3,
   "metadata": {},
   "outputs": [
    {
     "data": {
      "text/plain": [
       "<torch._C.Generator at 0x10f436010>"
      ]
     },
     "execution_count": 3,
     "metadata": {},
     "output_type": "execute_result"
    }
   ],
   "source": [
    "random.seed(4321)\n",
    "torch.manual_seed(4321)"
   ]
  },
  {
   "cell_type": "markdown",
   "metadata": {},
   "source": [
    "## Reading the Dataset"
   ]
  },
  {
   "cell_type": "code",
   "execution_count": 4,
   "metadata": {},
   "outputs": [],
   "source": [
    "FILE = 'sentences.csv'"
   ]
  },
  {
   "cell_type": "markdown",
   "metadata": {},
   "source": [
    "Adjust your path"
   ]
  },
  {
   "cell_type": "code",
   "execution_count": 5,
   "metadata": {},
   "outputs": [],
   "source": [
    "SMALL_DATASET_PATH = '.'\n",
    "LARGE_DATASET_PATH = '.'"
   ]
  },
  {
   "cell_type": "code",
   "execution_count": 6,
   "metadata": {},
   "outputs": [],
   "source": [
    "SMALL = False"
   ]
  },
  {
   "cell_type": "code",
   "execution_count": 7,
   "metadata": {},
   "outputs": [],
   "source": [
    "if SMALL:\n",
    "    dataset_path = SMALL_DATASET_PATH\n",
    "else:\n",
    "    dataset_path = LARGE_DATASET_PATH\n",
    "    \n",
    "WORKING_FILE = dataset_path + '/' + FILE"
   ]
  },
  {
   "cell_type": "markdown",
   "metadata": {},
   "source": [
    "We create a generator"
   ]
  },
  {
   "cell_type": "code",
   "execution_count": 8,
   "metadata": {},
   "outputs": [],
   "source": [
    "def file_reader(file):\n",
    "    with open(file, encoding='utf8', errors='ignore') as f:\n",
    "        for line in f:\n",
    "            row = line.strip()\n",
    "            yield tuple(row.split('\\t'))"
   ]
  },
  {
   "cell_type": "code",
   "execution_count": 9,
   "metadata": {},
   "outputs": [],
   "source": [
    "line_generator = file_reader(WORKING_FILE)"
   ]
  },
  {
   "cell_type": "markdown",
   "metadata": {},
   "source": [
    "And we count the sentences per language"
   ]
  },
  {
   "cell_type": "code",
   "execution_count": 10,
   "metadata": {},
   "outputs": [],
   "source": [
    "lang_freqs = Counter(map(lambda x: x[1], line_generator))"
   ]
  },
  {
   "cell_type": "code",
   "execution_count": 11,
   "metadata": {},
   "outputs": [
    {
     "data": {
      "text/plain": [
       "[('eng', 1919655),\n",
       " ('rus', 1083677),\n",
       " ('ita', 888171),\n",
       " ('epo', 766363),\n",
       " ('tur', 734304),\n",
       " ('kab', 722477),\n",
       " ('deu', 694683),\n",
       " ('ber', 676645),\n",
       " ('fra', 627564),\n",
       " ('por', 433886),\n",
       " ('hun', 411068),\n",
       " ('spa', 408395),\n",
       " ('jpn', 241802),\n",
       " ('heb', 201539),\n",
       " ('ukr', 186322)]"
      ]
     },
     "execution_count": 11,
     "metadata": {},
     "output_type": "execute_result"
    }
   ],
   "source": [
    "lang_freqs.most_common(15)"
   ]
  },
  {
   "cell_type": "code",
   "execution_count": 18,
   "metadata": {},
   "outputs": [
    {
     "data": {
      "text/plain": [
       "['\\\\N', 'abk', 'acm', 'ady', 'afb', 'afh', 'afr', 'aii', 'ain', 'ajp']"
      ]
     },
     "execution_count": 18,
     "metadata": {},
     "output_type": "execute_result"
    }
   ],
   "source": [
    "langs = sorted(list(set(lang_freqs.keys())))\n",
    "langs[:10]"
   ]
  },
  {
   "cell_type": "markdown",
   "metadata": {},
   "source": [
    "## Extracting n-grams"
   ]
  },
  {
   "cell_type": "code",
   "execution_count": 19,
   "metadata": {},
   "outputs": [],
   "source": [
    "def ngrams(sentence, n=1, lc=True):\n",
    "    ngram_l = []\n",
    "    if lc:\n",
    "        sentence = sentence.lower()\n",
    "    for i in range(len(sentence) - n + 1):\n",
    "        ngram_l += [sentence[i:i+n]]\n",
    "    return ngram_l"
   ]
  },
  {
   "cell_type": "code",
   "execution_count": 20,
   "metadata": {},
   "outputs": [],
   "source": [
    "def all_ngrams(sentence, max_ngram=3, lc=True):\n",
    "    all_ngram_list = []\n",
    "    for i in range(1, max_ngram + 1):\n",
    "        all_ngram_list += [ngrams(sentence, n=i, lc=lc)]\n",
    "    return all_ngram_list"
   ]
  },
  {
   "cell_type": "code",
   "execution_count": 21,
   "metadata": {},
   "outputs": [
    {
     "data": {
      "text/plain": [
       "[['b', 'a', 'n', 'a', 'n', 'a'],\n",
       " ['ba', 'an', 'na', 'an', 'na'],\n",
       " ['ban', 'ana', 'nan', 'ana']]"
      ]
     },
     "execution_count": 21,
     "metadata": {},
     "output_type": "execute_result"
    }
   ],
   "source": [
    "all_ngrams('banana')"
   ]
  },
  {
   "cell_type": "markdown",
   "metadata": {},
   "source": [
    "## Extracting n-grams from the corpus"
   ]
  },
  {
   "cell_type": "code",
   "execution_count": 22,
   "metadata": {},
   "outputs": [],
   "source": [
    "def extract_ngrams():\n",
    "    with open(WORKING_FILE, encoding='utf8', errors='ignore') as f:\n",
    "        for line in f:\n",
    "            row = line.strip()\n",
    "            lang_tuple = tuple(row.split('\\t'))\n",
    "            lang = lang_tuple[1]\n",
    "            if lang in langs:\n",
    "                yield all_ngrams(lang_tuple[2])       "
   ]
  },
  {
   "cell_type": "markdown",
   "metadata": {},
   "source": [
    "We assume three, otherwise we have to create a list"
   ]
  },
  {
   "cell_type": "code",
   "execution_count": 23,
   "metadata": {},
   "outputs": [],
   "source": [
    "charset = set()\n",
    "bigram_set = set()\n",
    "trigram_set = set()"
   ]
  },
  {
   "cell_type": "code",
   "execution_count": 24,
   "metadata": {},
   "outputs": [],
   "source": [
    "for triple in extract_ngrams():\n",
    "    charset.update(triple[0])\n",
    "    bigram_set.update(triple[1])\n",
    "    trigram_set.update(triple[2])\n"
   ]
  },
  {
   "cell_type": "code",
   "execution_count": 25,
   "metadata": {},
   "outputs": [
    {
     "data": {
      "text/plain": [
       "(10854, 361766, 1536870)"
      ]
     },
     "execution_count": 25,
     "metadata": {},
     "output_type": "execute_result"
    }
   ],
   "source": [
    "len(charset), len(bigram_set), len(trigram_set)"
   ]
  },
  {
   "cell_type": "markdown",
   "metadata": {},
   "source": [
    "## Hashing the n-grams and limiting their numbers"
   ]
  },
  {
   "cell_type": "code",
   "execution_count": 26,
   "metadata": {},
   "outputs": [
    {
     "data": {
      "text/plain": [
       "(-5048042572070127599, 1)"
      ]
     },
     "execution_count": 26,
     "metadata": {},
     "output_type": "execute_result"
    }
   ],
   "source": [
    "hash('ads'), hash('ads') % 100"
   ]
  },
  {
   "cell_type": "code",
   "execution_count": 27,
   "metadata": {},
   "outputs": [],
   "source": [
    "if SMALL:\n",
    "    MAX_CHARS = 521\n",
    "    MAX_BIGRAMS = 1031\n",
    "    MAX_TRIGRAMS = 1031  \n",
    "else:\n",
    "    MAX_CHARS = 2053\n",
    "    MAX_BIGRAMS = 4099\n",
    "    MAX_TRIGRAMS = 4099  #8192"
   ]
  },
  {
   "cell_type": "code",
   "execution_count": 28,
   "metadata": {},
   "outputs": [
    {
     "data": {
      "text/plain": [
       "10251"
      ]
     },
     "execution_count": 28,
     "metadata": {},
     "output_type": "execute_result"
    }
   ],
   "source": [
    "NUM_FEATURES = MAX_CHARS + MAX_BIGRAMS + MAX_TRIGRAMS\n",
    "NUM_FEATURES"
   ]
  },
  {
   "cell_type": "code",
   "execution_count": 29,
   "metadata": {},
   "outputs": [],
   "source": [
    "def hash_conflicts(symbol_set, modulo):\n",
    "    conflict_dict = dict()\n",
    "    for symb in symbol_set:\n",
    "        hash_code = hash(symb) % modulo\n",
    "        if hash_code in conflict_dict:\n",
    "            conflict_dict[hash_code] += [symb]\n",
    "        else:\n",
    "            conflict_dict[hash_code] = [symb]\n",
    "    return conflict_dict"
   ]
  },
  {
   "cell_type": "code",
   "execution_count": 30,
   "metadata": {},
   "outputs": [],
   "source": [
    "hash_conflicts_1 = hash_conflicts(charset, MAX_CHARS)\n",
    "hash_conflicts_2 = hash_conflicts(bigram_set, MAX_BIGRAMS)\n",
    "hash_conflicts_3 = hash_conflicts(trigram_set, MAX_TRIGRAMS)"
   ]
  },
  {
   "cell_type": "code",
   "execution_count": 50,
   "metadata": {},
   "outputs": [
    {
     "data": {
      "text/plain": [
       "1745"
      ]
     },
     "execution_count": 50,
     "metadata": {},
     "output_type": "execute_result"
    }
   ],
   "source": [
    "hash('a') % 2053"
   ]
  },
  {
   "cell_type": "code",
   "execution_count": 51,
   "metadata": {},
   "outputs": [
    {
     "data": {
      "text/plain": [
       "['ｙ', '쿠', '倹', 'ȋ', 'a', '买', '骨']"
      ]
     },
     "execution_count": 51,
     "metadata": {},
     "output_type": "execute_result"
    }
   ],
   "source": [
    "hash_conflicts_1[1745]"
   ]
  },
  {
   "cell_type": "markdown",
   "metadata": {},
   "source": [
    "Expected number of symbols per hash code"
   ]
  },
  {
   "cell_type": "code",
   "execution_count": 31,
   "metadata": {},
   "outputs": [
    {
     "data": {
      "text/plain": [
       "(5.286897223575256, 88.25713588680166, 374.93778970480605)"
      ]
     },
     "execution_count": 31,
     "metadata": {},
     "output_type": "execute_result"
    }
   ],
   "source": [
    "len(charset)/MAX_CHARS, len(bigram_set)/MAX_BIGRAMS, len(trigram_set)/MAX_TRIGRAMS"
   ]
  },
  {
   "cell_type": "markdown",
   "metadata": {},
   "source": [
    "Observed frequencies"
   ]
  },
  {
   "cell_type": "code",
   "execution_count": 32,
   "metadata": {},
   "outputs": [
    {
     "data": {
      "text/plain": [
       "Counter({5: 377,\n",
       "         4: 331,\n",
       "         6: 322,\n",
       "         3: 273,\n",
       "         7: 217,\n",
       "         8: 161,\n",
       "         2: 134,\n",
       "         9: 81,\n",
       "         10: 48,\n",
       "         1: 48,\n",
       "         11: 19,\n",
       "         12: 18,\n",
       "         13: 6,\n",
       "         14: 2,\n",
       "         16: 1,\n",
       "         15: 1})"
      ]
     },
     "execution_count": 32,
     "metadata": {},
     "output_type": "execute_result"
    }
   ],
   "source": [
    "cnt_hc_1 = Counter(map(len, hash_conflicts_1.values()))\n",
    "cnt_hc_1"
   ]
  },
  {
   "cell_type": "code",
   "execution_count": 33,
   "metadata": {},
   "outputs": [
    {
     "data": {
      "image/png": "[encoded data removed]",
      "text/plain": [
       "<Figure size 640x480 with 1 Axes>"
      ]
     },
     "metadata": {},
     "output_type": "display_data"
    }
   ],
   "source": [
    "plt.bar(cnt_hc_1.keys(), cnt_hc_1.values())\n",
    "plt.show()"
   ]
  },
  {
   "cell_type": "code",
   "execution_count": 34,
   "metadata": {},
   "outputs": [
    {
     "data": {
      "text/plain": [
       "Counter({87: 186,\n",
       "         88: 184,\n",
       "         90: 178,\n",
       "         86: 164,\n",
       "         85: 161,\n",
       "         91: 157,\n",
       "         84: 154,\n",
       "         89: 154,\n",
       "         93: 153,\n",
       "         92: 152,\n",
       "         83: 151,\n",
       "         81: 141,\n",
       "         94: 137,\n",
       "         95: 135,\n",
       "         80: 133,\n",
       "         82: 130,\n",
       "         96: 116,\n",
       "         97: 112,\n",
       "         79: 111,\n",
       "         78: 103,\n",
       "         98: 100,\n",
       "         77: 88,\n",
       "         99: 86,\n",
       "         100: 82,\n",
       "         76: 75,\n",
       "         102: 63,\n",
       "         75: 60,\n",
       "         101: 59,\n",
       "         74: 54,\n",
       "         103: 51,\n",
       "         104: 50,\n",
       "         71: 40,\n",
       "         72: 36,\n",
       "         105: 32,\n",
       "         73: 32,\n",
       "         70: 31,\n",
       "         106: 28,\n",
       "         68: 25,\n",
       "         107: 25,\n",
       "         109: 21,\n",
       "         69: 20,\n",
       "         108: 20,\n",
       "         65: 15,\n",
       "         66: 15,\n",
       "         112: 12,\n",
       "         111: 10,\n",
       "         110: 9,\n",
       "         67: 8,\n",
       "         113: 8,\n",
       "         116: 4,\n",
       "         64: 4,\n",
       "         114: 3,\n",
       "         63: 3,\n",
       "         117: 2,\n",
       "         119: 2,\n",
       "         123: 2,\n",
       "         115: 2,\n",
       "         62: 2,\n",
       "         121: 1,\n",
       "         57: 1,\n",
       "         59: 1,\n",
       "         120: 1,\n",
       "         118: 1,\n",
       "         122: 1,\n",
       "         58: 1,\n",
       "         60: 1})"
      ]
     },
     "execution_count": 34,
     "metadata": {},
     "output_type": "execute_result"
    }
   ],
   "source": [
    "cnt_hc_2= Counter(map(len, hash_conflicts_2.values()))\n",
    "cnt_hc_2"
   ]
  },
  {
   "cell_type": "code",
   "execution_count": 35,
   "metadata": {},
   "outputs": [
    {
     "data": {
      "image/png": "[encoded data removed]",
      "text/plain": [
       "<Figure size 640x480 with 1 Axes>"
      ]
     },
     "metadata": {},
     "output_type": "display_data"
    }
   ],
   "source": [
    "plt.bar(cnt_hc_2.keys(), cnt_hc_2.values())\n",
    "plt.show()"
   ]
  },
  {
   "cell_type": "code",
   "execution_count": 36,
   "metadata": {},
   "outputs": [],
   "source": [
    "cnt_hc_3 = Counter(map(len, hash_conflicts_3.values()))"
   ]
  },
  {
   "cell_type": "code",
   "execution_count": 37,
   "metadata": {},
   "outputs": [
    {
     "data": {
      "image/png": "[encoded data removed]",
      "text/plain": [
       "<Figure size 640x480 with 1 Axes>"
      ]
     },
     "metadata": {},
     "output_type": "display_data"
    }
   ],
   "source": [
    "plt.bar(cnt_hc_3.keys(), cnt_hc_3.values())\n",
    "plt.show()"
   ]
  }
 ],
 "metadata": {
  "kernelspec": {
   "display_name": "Python 3.9.13 ('base')",
   "language": "python",
   "name": "python3"
  },
  "language_info": {
   "codemirror_mode": {
    "name": "ipython",
    "version": 3
   },
   "file_extension": ".py",
   "mimetype": "text/x-python",
   "name": "python",
   "nbconvert_exporter": "python",
   "pygments_lexer": "ipython3",
   "version": "3.12.4"
  },
  "orig_nbformat": 4,
  "vscode": {
   "interpreter": {
    "hash": "b97b11a820675205aae8f1d7f2a3f22bbd3a2c30189f44042310baf5b4cd1987"
   }
  }
 },
 "nbformat": 4,
 "nbformat_minor": 2
}
