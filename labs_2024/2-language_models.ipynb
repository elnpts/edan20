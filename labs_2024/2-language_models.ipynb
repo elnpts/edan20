{
 "cells": [
  {
   "cell_type": "markdown",
   "metadata": {},
   "source": [
    "# Assignment #2: Language models\n",
    "Author: Pierre Nugues"
   ]
  },
  {
   "cell_type": "markdown",
   "metadata": {},
   "source": [
    "## Objectives"
   ]
  },
  {
   "cell_type": "markdown",
   "metadata": {},
   "source": [
    "The objectives of this assignment are to:\n",
    "* Write a program to find n-gram statistics\n",
    "* Compute the probability of a sentence\n",
    "* Know what a language model is\n",
    "* Write a short report of 1 to 2 pages on the assignment"
   ]
  },
  {
   "cell_type": "markdown",
   "metadata": {},
   "source": [
    "## Submission"
   ]
  },
  {
   "cell_type": "markdown",
   "metadata": {},
   "source": [
    "Once you have written all the missing code and run all the cells, you will show it to an instructor that will pass you."
   ]
  },
  {
   "cell_type": "markdown",
   "metadata": {},
   "source": [
    "## Organization"
   ]
  },
  {
   "cell_type": "markdown",
   "metadata": {},
   "source": [
    "* Each group will have to write Python programs to count unigrams, bigrams, and trigrams in a corpus of approximately one million words and to determine the probability of a sentence.\n",
    "* You can test you regular expression using the regex101.com site\n",
    "* Each student will have to write a short report of one to two pages and comment briefly the results. In your report, you must produce the tabulated results of your analysis as described below."
   ]
  },
  {
   "cell_type": "markdown",
   "metadata": {},
   "source": [
    "## Programming"
   ]
  },
  {
   "cell_type": "markdown",
   "metadata": {},
   "source": [
    "### Imports"
   ]
  },
  {
   "cell_type": "markdown",
   "metadata": {},
   "source": [
    "Some imports you may need. Add others as needed."
   ]
  },
  {
   "cell_type": "code",
   "execution_count": 3,
   "metadata": {},
   "outputs": [],
   "source": [
    "import bz2\n",
    "import math\n",
    "import os\n",
    "import regex as re\n",
    "import requests\n",
    "import sys\n",
    "from zipfile import ZipFile\n",
    "from collections import Counter"
   ]
  },
  {
   "cell_type": "markdown",
   "metadata": {},
   "source": [
    "### Collecting and analyzing a corpus"
   ]
  },
  {
   "cell_type": "markdown",
   "metadata": {},
   "source": [
    "Retrieve a corpus of novels by Selma Lagerl&ouml;f from this URL:\n",
    "<a href=\"https://github.com/pnugues/ilppp/blob/master/programs/corpus/Selma.txt\">\n",
    "    <tt>https://github.com/pnugues/ilppp/blob/master/programs/corpus/Selma.txt</tt>\n",
    "</a>. The text of these novels was extracted\n",
    "from <a href=\"https://litteraturbanken.se/forfattare/LagerlofS/titlar\">Lagerlöf arkivet</a> at\n",
    "<a href=\"https://litteraturbanken.se/\">Litteraturbanken</a>."
   ]
  },
  {
   "cell_type": "code",
   "execution_count": 4,
   "metadata": {},
   "outputs": [],
   "source": [
    "# You may have to adjust the path\n",
    "corpus = open('corpus/Selma.txt', encoding='utf8').read()"
   ]
  },
  {
   "cell_type": "markdown",
   "metadata": {},
   "source": [
    "Run the <a href=\"https://github.com/pnugues/ilppp/tree/master/programs/ch02/python\">concordance\n",
    "program </a> to print the lines containing a specific word, for instance <i>Nils</i>."
   ]
  },
  {
   "cell_type": "code",
   "execution_count": 5,
   "metadata": {},
   "outputs": [],
   "source": [
    "pattern = 'Nils Holgersson'\n",
    "width = 25"
   ]
  },
  {
   "cell_type": "code",
   "execution_count": 6,
   "metadata": {},
   "outputs": [
    {
     "name": "stdout",
     "output_type": "stream",
     "text": [
      "Selma Lagerlöf Nils Holgerssons underbara resa genom Sv\n",
      "! Se på Tummetott! Se på Nils Holgersson Tummetott!» Genast vände\n",
      "r,» sade han. »Jag heter Nils Holgersson och är son till en husma\n",
      "lden. »Inte är det värt, Nils Holgersson, att du är ängslig eller\n",
      " i dem. På den tiden, då Nils Holgersson drog omkring med vildgäs\n",
      "ulle allt visa honom vad Nils Holgersson från Västra Vemmenhög va\n",
      "om ägde rum det året, då Nils Holgersson for omkring med vildgäss\n",
      "m vad det kan kosta dem. Nils Holgersson hade inte haft förstånd \n",
      "de det inte mer sägas om Nils Holgersson, att han inte tyckte om \n",
      " Rosenbom?» För där stod Nils Holgersson mitt uppe på Rosenboms n\n",
      " Med ens fingo de syn på Nils Holgersson, och då sköt den store v\n",
      "vila. När vildgässen och Nils Holgersson äntligen hade letat sig \n",
      " slags arbetare. Men vad Nils Holgersson inte såg, det var, att s\n",
      "nde han fråga, och om då Nils Holgersson sade nej, började han ge\n",
      "de lille Mats, och om nu Nils Holgersson också hade tegat, så had\n",
      "åg så försmädlig ut, att Nils Holgersson kastade sig över honom f\n",
      " brodern. Och inte ville Nils Holgersson slåss med en tös, utan h\n",
      "örkar. På den tiden, när Nils Holgersson for omkring med vildgäss\n",
      " ryckte omkull honom. Om Nils Holgersson genast hade ropat på hjä\n",
      "u reda dig på egen hand, Nils Holgersson,» sade han då till sig s\n",
      "r satte Fumle-Drumle ner Nils Holgersson på bottnen av en sandgro\n",
      "mlingarna. – »Jo, jag är Nils Holgersson från Västra Vemmenhög, s\n",
      "rakten. På den tiden, då Nils Holgersson for omkring med vildgäss\n",
      "Jo, det står – Det står: Nils Holgersson fr. V. Vemmenhög.» »Det \n",
      "visan 1 Sveriges karta 2 Nils Holgerssons underbara resa genom Sv\n",
      "admalsvåden 233 ________ Nils Holgerssons underbara resa genom Sv\n",
      "R. Tolv år ungefär innan Nils Holgersson hade börjat resa omkring\n",
      "och leta efter föda, men Nils Holgersson hade på morgonen tappat \n",
      "ill i Närke det året, då Nils Holgersson for fram över landskapet\n",
      "hade flyttat tassen över Nils Holgerssons ansikte, så att den sta\n",
      "29 april. Denna dag fick Nils Holgersson se södra Dalarna. Vildgä\n",
      "rliga sjön. Det året, då Nils Holgersson for med vildgässen genom\n",
      "t skänka upptäckten till Nils Holgersson. Det var ju både det tro\n",
      " som sången varade, stod Nils Holgersson och lyssnade till den, m\n",
      "ova på en vassrugge. Vad Nils Holgersson angår, så var han för hu\n",
      "e svårt för en sådan som Nils Holgersson att finna en farkost. Ha\n",
      "r de hade kommit mittför Nils Holgersson, slogo de sig ner på ett\n",
      " 5 maj. På den tiden, då Nils Holgersson drog genom landet med vi\n",
      "an vara bra lycklig. Att Nils Holgersson, som för ett par timmar \n",
      " afton. Och således hade Nils Holgersson fått se studenterna, när\n",
      "nger under marschen. Men Nils Holgersson hade tyckt, att det inte\n",
      "och glädja så som dessa. Nils Holgersson hade mest sett på studen\n",
      "m, stannade han. »Jag är Nils Holgersson från Västra Vemmenhög,» \n",
      " Ett par år före det, då Nils Holgersson drog omkring med vildgäs\n",
      " detsamma fattade han om Nils Holgersson med sin stora fot, höjde\n",
      "t ingen mer än den lilla Nils Holgersson, som följde henne. Solen\n",
      " voro klädda med is, och Nils Holgersson ville följa henne dit in\n",
      "t Lappland är mitt!» Men Nils Holgersson hade blivit så ängslig, \n",
      " över klippväggarna, och Nils Holgersson kunde förstå, att det va\n",
      " SJUKDOMEN. Det året, då Nils Holgersson for omkring med vildgäss\n",
      "jligt att undgå den. Vad Nils Holgersson beträffar, så hade han h\n",
      "hade hon slagit klorna i Nils Holgerssons skuldra och hackade eft\n",
      "g, att just det året, då Nils Holgersson for omkring med vildgäss\n",
      " lönt att vara bedrövad, Nils Holgersson,» sade solen. »Världen ä\n",
      "åga om han inte kunde ge Nils Holgersson bättre villkor. ’Det öns\n",
      "du vill,’ sade han. ’Med Nils Holgersson blir det ändå så, som ja\n",
      "a haft av honom. Ja, säg Nils Holgersson, att föräldrarna redan h\n",
      "Västergötland. Den lille Nils Holgersson hade krupit upp på en la\n",
      " honom sämre.» Den lille Nils Holgersson hade följt med barnen he\n",
      "e bara störa.» Då tyckte Nils Holgersson, att när ingen annan gjo\n",
      "n färdig att följa det.» Nils Holgersson sprang raskt neråt vägen\n",
      "rott mellan de unga. Vad Nils Holgersson beträffar, så hade han i\n",
      "on gav sig tid att se på Nils Holgersson, innan hon stötte till. \n",
      " ändå alldeles olik. Den Nils Holgersson, som hade farit bort i v\n",
      " tro det. Välkommen hem, Nils Holgersson, välkommen hem! Det här \n",
      "mig här på gården,» sade Nils Holgersson. »Min egen mor tror, att\n",
      "on riktig sjukdom,» sade Nils Holgersson. »Jag får försöka ställa\n",
      "in kniv här på din hov?» Nils Holgersson var nätt och jämnt färdi\n",
      "sslingen, som var så lik Nils Holgersson, att om det inte var han\n",
      "pojken fanns i närheten. Nils Holgersson hörde honom nog, men han\n",
      "ottrar ihop ett tack för Nils Holgersson? Vad skulle det ha blivi\n"
     ]
    }
   ],
   "source": [
    "# spaces match tabs and newlines\n",
    "pattern = re.sub(' ', r'\\\\s+', pattern)\n",
    "# Replaces newlines with spaces in the text\n",
    "clean_corpus = re.sub(r'\\s+', ' ', corpus)\n",
    "concordance = ('(.{{0,{width}}}{pattern}.{{0,{width}}})'\n",
    "               .format(pattern=pattern, width=width))\n",
    "for match in re.finditer(concordance, clean_corpus):\n",
    "    print(match.group(1))\n",
    "# print the string with 0..width characters on either side"
   ]
  },
  {
   "cell_type": "markdown",
   "metadata": {},
   "source": [
    "Run a simple <a href=\"https://github.com/pnugues/ilppp/tree/master/programs/ch05/python\">tokenization\n",
    "program</a> on your corpus."
   ]
  },
  {
   "cell_type": "code",
   "execution_count": 7,
   "metadata": {},
   "outputs": [],
   "source": [
    "def tokenize(text):\n",
    "    words = re.findall(r'\\p{L}+', text)\n",
    "    return words"
   ]
  },
  {
   "cell_type": "code",
   "execution_count": 187,
   "metadata": {},
   "outputs": [
    {
     "data": {
      "text/plain": [
       "['Selma',\n",
       " 'Lagerlöf',\n",
       " 'Nils',\n",
       " 'Holgerssons',\n",
       " 'underbara',\n",
       " 'resa',\n",
       " 'genom',\n",
       " 'Sverige',\n",
       " 'Första',\n",
       " 'bandet']"
      ]
     },
     "execution_count": 187,
     "metadata": {},
     "output_type": "execute_result"
    }
   ],
   "source": [
    "words = tokenize(corpus)\n",
    "words[:10]"
   ]
  },
  {
   "cell_type": "markdown",
   "metadata": {},
   "source": [
    "Count the number of unique words in the original corpus and when setting all the words in lowercase"
   ]
  },
  {
   "cell_type": "markdown",
   "metadata": {},
   "source": [
    "Original text"
   ]
  },
  {
   "cell_type": "code",
   "execution_count": 188,
   "metadata": {},
   "outputs": [
    {
     "data": {
      "text/plain": [
       "44256"
      ]
     },
     "execution_count": 188,
     "metadata": {},
     "output_type": "execute_result"
    }
   ],
   "source": [
    "# Write your code here\n",
    "unique_words = set(words)\n",
    "len(unique_words)"
   ]
  },
  {
   "cell_type": "markdown",
   "metadata": {},
   "source": [
    "Lowercased text"
   ]
  },
  {
   "cell_type": "code",
   "execution_count": 10,
   "metadata": {},
   "outputs": [
    {
     "data": {
      "text/plain": [
       "41032"
      ]
     },
     "execution_count": 10,
     "metadata": {},
     "output_type": "execute_result"
    }
   ],
   "source": [
    "# Write your code here\n",
    "words = tokenize(corpus.lower())\n",
    "len(set(words))"
   ]
  },
  {
   "cell_type": "markdown",
   "metadata": {},
   "source": [
    "### Segmenting a corpus"
   ]
  },
  {
   "cell_type": "markdown",
   "metadata": {},
   "source": [
    "You will write a program to tokenize your text, insert `<s>` and `</s>` tags to delimit sentences, and set all the words in lowercase letters. In the end, you will only keep the words."
   ]
  },
  {
   "cell_type": "markdown",
   "metadata": {},
   "source": [
    "#### Normalizing "
   ]
  },
  {
   "cell_type": "markdown",
   "metadata": {},
   "source": [
    "Write a regular expression that matches all the characters that are neither a letter nor a punctuation sign. The punctuations signs will be the followings: `.;:?!`. In your regex, use the same order. For the definition of a letter, use a Unicode regex. You will call the regex string `nonletter`"
   ]
  },
  {
   "cell_type": "code",
   "execution_count": 11,
   "metadata": {},
   "outputs": [],
   "source": [
    "# Write your code\n",
    "nonletter = r\"[^.;:?!\\p{L}]\" # Neither punctuation sign nor letter"
   ]
  },
  {
   "cell_type": "markdown",
   "metadata": {},
   "source": [
    "Write a `clean()` function that replaces all the characters that are neither a letter nor a punctuation sign with a space. The punctuations signs will be the followings: `.;:?!`.   For the sentence:\n",
    "\n",
    "_En gång hade de på Mårbacka en barnpiga, som hette Back-Kajsa._\n",
    "\n",
    "the result will be:\n",
    "\n",
    "`En gång hade de på Mårbacka en barnpiga som hette Back Kajsa.`"
   ]
  },
  {
   "cell_type": "code",
   "execution_count": 12,
   "metadata": {},
   "outputs": [],
   "source": [
    "# Write your code here\n",
    "def clean(text):\n",
    "    sentence = re.sub(nonletter, ' ', text)\n",
    "    return re.sub('\\s+', ' ', sentence).strip() # remove double whitespace, strip any space in beginning or end"
   ]
  },
  {
   "cell_type": "code",
   "execution_count": 13,
   "metadata": {},
   "outputs": [],
   "source": [
    "test_para = 'En gång hade de på Mårbacka en barnpiga, som hette Back-Kajsa. \\\n",
    "Hon var nog sina tre alnar lång, hon hade ett stort, grovt ansikte med stränga, mörka drag, \\\n",
    "hennes händer voro hårda och fulla av sprickor, som barnens hår fastnade i, \\\n",
    "när hon kammade dem, och till humöret var hon dyster och sorgbunden.'"
   ]
  },
  {
   "cell_type": "code",
   "execution_count": 14,
   "metadata": {},
   "outputs": [
    {
     "data": {
      "text/plain": [
       "'En gång hade de på Mårbacka en barnpiga som hette Back Kajsa. Hon var nog sina tre alnar lång hon hade ett stort grovt ansikte med stränga mörka drag hennes händer voro hårda och fulla av sprickor som barnens hår fastnade i när hon kammade dem och till humöret var hon dyster och sorgbunden.'"
      ]
     },
     "execution_count": 14,
     "metadata": {},
     "output_type": "execute_result"
    }
   ],
   "source": [
    "test_para = clean(test_para)\n",
    "test_para"
   ]
  },
  {
   "cell_type": "code",
   "execution_count": 15,
   "metadata": {},
   "outputs": [
    {
     "name": "stdout",
     "output_type": "stream",
     "text": [
      "Selma Lagerlöf\n",
      "\n",
      "\n",
      "Nils Holgerssons underbara resa genom Sverige. Första bandet\n",
      "\n",
      "\n",
      "\n",
      "\n",
      "\n",
      "Bokutgåva\n",
      "\n",
      "\n",
      "Albert Bonniers förlag, Stockholm 1907.\n",
      "\n",
      "\n",
      "\n",
      "\n",
      "DEN KRISTLIGA DAGVISAN.\n",
      "\n",
      "\n",
      "\n",
      "\n",
      "\n",
      "Den signade dag, som vi nu här s\n"
     ]
    }
   ],
   "source": [
    "print(corpus[:200])"
   ]
  },
  {
   "cell_type": "code",
   "execution_count": 16,
   "metadata": {},
   "outputs": [
    {
     "name": "stdout",
     "output_type": "stream",
     "text": [
      "Selma Lagerlöf Nils Holgerssons underbara resa genom Sverige. Första bandet Bokutgåva Albert Bonniers förlag Stockholm . DEN KRISTLIGA DAGVISAN. Den signade dag som vi nu här s\n"
     ]
    }
   ],
   "source": [
    "print(clean(corpus[:200]))"
   ]
  },
  {
   "cell_type": "markdown",
   "metadata": {},
   "source": [
    "#### Segmenter"
   ]
  },
  {
   "cell_type": "markdown",
   "metadata": {},
   "source": [
    "In this section, you will write a sentence segmenter that will delimit each sentence with `</s>` and `<s>` symbols. For example the sentence:\n",
    "\n",
    "_En gång hade de på Mårbacka en barnpiga, som hette Back-Kajsa._\n",
    "\n",
    "will be bracketed as:\n",
    "\n",
    "`<s> En gång hade de på Mårbacka en barnpiga som hette Back-Kajsa </s>`\n",
    "\n",
    "As algorithm, you will use a simple heuristics to detect the sentence boundaries: A sentence starts with a capital letter and ends with a period-equivalent punctuation sign. You will write a regex to match these boundaries with a regular expression and you will insert `</s>\\n<s>` symbols with a substitution function."
   ]
  },
  {
   "cell_type": "markdown",
   "metadata": {},
   "source": [
    "##### Detecting sentence boundaries"
   ]
  },
  {
   "cell_type": "markdown",
   "metadata": {},
   "source": [
    "Write a regular expression that matches a punctuation, a sequence of spaces, and an uppercase letter. Call this regex string `sentence_boundaries`. In the regex, you will remember the value of the uppercase letter using a backreference. Use the Unicode regexes for the letters and the spaces. You may use `\\s` though."
   ]
  },
  {
   "cell_type": "code",
   "execution_count": 17,
   "metadata": {},
   "outputs": [],
   "source": [
    "# Write your code here\n",
    "sentence_boundaries = r\"\\p{P}\\s+(\\p{Lu})\" # \\p{P} punctuation, \\s+ sequence of spaces, (\\p{Lu}) uppercase letter remembered with backreference"
   ]
  },
  {
   "cell_type": "markdown",
   "metadata": {},
   "source": [
    "##### Replacement markup"
   ]
  },
  {
   "cell_type": "markdown",
   "metadata": {},
   "source": [
    "Write a string to replace the matched boundaries with the sentence boundary markup. Remember that a sentence ends with `</s>` and starts with `<s>` and that there is one sentence per line. Hint: The markup is `</s>\\n<s>`. Remember also that the first letter of your sentence is in a regex backreference. Call the regex string `sentence_markup`."
   ]
  },
  {
   "cell_type": "code",
   "execution_count": 18,
   "metadata": {},
   "outputs": [],
   "source": [
    "# Write your code here\n",
    "sentence_markup = r\" </s>\\n<s> \\1\"\n"
   ]
  },
  {
   "cell_type": "markdown",
   "metadata": {},
   "source": [
    "##### Applying the substitution"
   ]
  },
  {
   "cell_type": "markdown",
   "metadata": {},
   "source": [
    "Use your regexes to segment your text. Use the string `sentence_boundaries`, `sentence_markup`, and `test_para` as input and `text` as output."
   ]
  },
  {
   "cell_type": "code",
   "execution_count": 19,
   "metadata": {},
   "outputs": [],
   "source": [
    "# Write your code here\n",
    "text = re.sub(sentence_boundaries, sentence_markup, test_para)"
   ]
  },
  {
   "cell_type": "code",
   "execution_count": 20,
   "metadata": {},
   "outputs": [
    {
     "name": "stdout",
     "output_type": "stream",
     "text": [
      "En gång hade de på Mårbacka en barnpiga som hette Back Kajsa </s>\n",
      "<s> Hon var nog sina tre alnar lång hon hade ett stort grovt ansikte med stränga mörka drag hennes händer voro hårda och fulla av sprickor som barnens hår fastnade i när hon kammade dem och till humöret var hon dyster och sorgbunden.\n"
     ]
    }
   ],
   "source": [
    "print(text)"
   ]
  },
  {
   "cell_type": "markdown",
   "metadata": {},
   "source": [
    "Insert markup codes in the beginning and end of the text"
   ]
  },
  {
   "cell_type": "code",
   "execution_count": 21,
   "metadata": {},
   "outputs": [],
   "source": [
    "# Write your code here\n",
    "markup_text = f\"<s> {text} </s>\""
   ]
  },
  {
   "cell_type": "code",
   "execution_count": 22,
   "metadata": {},
   "outputs": [
    {
     "name": "stdout",
     "output_type": "stream",
     "text": [
      "<s> En gång hade de på Mårbacka en barnpiga som hette Back Kajsa </s>\n",
      "<s> Hon var nog sina tre alnar lång hon hade ett stort grovt ansikte med stränga mörka drag hennes händer voro hårda och fulla av sprickor som barnens hår fastnade i när hon kammade dem och till humöret var hon dyster och sorgbunden. </s>\n"
     ]
    }
   ],
   "source": [
    "print(markup_text)"
   ]
  },
  {
   "cell_type": "markdown",
   "metadata": {},
   "source": [
    "Replace the space duplicates with one space and remove the punctuation signs. For the spaces, use the Unicode regex. You may use `\\s` though."
   ]
  },
  {
   "cell_type": "code",
   "execution_count": 208,
   "metadata": {},
   "outputs": [],
   "source": [
    "# Write your code here\n",
    "cl_text = re.sub('[.;:?!]', '', markup_text) # remove punctuations \\p{P} removes '/'\n",
    "#cl_text = re.sub(r'\\p{P}/', '', markup_text)\n",
    "cl_text = re.sub(r'\\p{Z}+', ' ', cl_text) # remove multiple spaces"
   ]
  },
  {
   "cell_type": "code",
   "execution_count": 209,
   "metadata": {},
   "outputs": [
    {
     "name": "stdout",
     "output_type": "stream",
     "text": [
      "<s> En gång hade de på Mårbacka en barnpiga som hette Back Kajsa </s>\n",
      "<s> Hon var nog sina tre alnar lång hon hade ett stort grovt ansikte med stränga mörka drag hennes händer voro hårda och fulla av sprickor som barnens hår fastnade i när hon kammade dem och till humöret var hon dyster och sorgbunden. </s>\n"
     ]
    }
   ],
   "source": [
    "print(cl_text)"
   ]
  },
  {
   "cell_type": "markdown",
   "metadata": {},
   "source": [
    "Write a `segment_sentences(text)` function to gather the code in the Segmenter section and set the text in lowercase"
   ]
  },
  {
   "cell_type": "code",
   "execution_count": 212,
   "metadata": {},
   "outputs": [],
   "source": [
    "# Write your code here\n",
    "def segment_sentences(text):\n",
    "    segment_text = re.sub(sentence_boundaries, sentence_markup, text)\n",
    "    markup_text = f\"<s> {segment_text} </s>\"\n",
    "    final_text = re.sub('[.;:?!]', '', markup_text)\n",
    "    final_text = re.sub(r'\\p{Z}+', ' ', final_text)\n",
    "    return final_text.lower()"
   ]
  },
  {
   "cell_type": "code",
   "execution_count": 213,
   "metadata": {},
   "outputs": [
    {
     "name": "stdout",
     "output_type": "stream",
     "text": [
      "<s> en gång hade de på mårbacka en barnpiga som hette back kajsa </s>\n",
      "<s> hon var nog sina tre alnar lång hon hade ett stort grovt ansikte med stränga mörka drag hennes händer voro hårda och fulla av sprickor som barnens hår fastnade i när hon kammade dem och till humöret var hon dyster och sorgbunden </s>\n"
     ]
    }
   ],
   "source": [
    "print(segment_sentences(test_para))"
   ]
  },
  {
   "cell_type": "markdown",
   "metadata": {},
   "source": [
    "Estimate qualitatively the accuracy of your program."
   ]
  },
  {
   "cell_type": "markdown",
   "metadata": {},
   "source": [
    "#### Tokenizing the corpus"
   ]
  },
  {
   "cell_type": "markdown",
   "metadata": {},
   "source": [
    "Clean and segment the corpus using the functions you have written"
   ]
  },
  {
   "cell_type": "code",
   "execution_count": 27,
   "metadata": {},
   "outputs": [],
   "source": [
    "# Write your code here\n",
    "segment_corpus = segment_sentences(clean(corpus))"
   ]
  },
  {
   "cell_type": "markdown",
   "metadata": {},
   "source": [
    "The result should be a normalized text without punctuation signs where all the sentences are delimited with `<s>` and `</s>` tags. The five last lines of the text should look like this. You may have some small differences."
   ]
  },
  {
   "cell_type": "code",
   "execution_count": 28,
   "metadata": {},
   "outputs": [
    {
     "name": "stdout",
     "output_type": "stream",
     "text": [
      "<s> hon hade fått större kärlek av sina föräldrar än någon annan han visste och sådan kärlek måste vändas i välsignelse </s>\n",
      "<s> då prästen sade detta kom alla människor att se bort mot klara gulla och de förundrade sig över vad de såg </s>\n",
      "<s> prästens ord tycktes redan ha gått i uppfyllelse </s>\n",
      "<s> där stod klara fina gulleborg ifrån skrolycka hon som var uppkallad efter själva solen vid sina föräldrars grav och lyste som en förklarad </s>\n",
      "<s> hon var likaså vacker som den söndagen då hon gick till kyrkan i den röda klänningen om inte vackrare </s>\n"
     ]
    }
   ],
   "source": [
    "print(segment_corpus[-557:])"
   ]
  },
  {
   "cell_type": "markdown",
   "metadata": {},
   "source": [
    "You will now create a list of words from your string. You will consider that a space or a carriage return is an item separator"
   ]
  },
  {
   "cell_type": "code",
   "execution_count": 214,
   "metadata": {},
   "outputs": [],
   "source": [
    "# Write your code here\n",
    "words = re.findall(r'[^\\p{Z}\\n]+', segment_corpus)"
   ]
  },
  {
   "cell_type": "markdown",
   "metadata": {},
   "source": [
    "The five last lines of the corpus should like this:"
   ]
  },
  {
   "cell_type": "code",
   "execution_count": 215,
   "metadata": {},
   "outputs": [
    {
     "name": "stdout",
     "output_type": "stream",
     "text": [
      "['<s>', 'hon', 'hade', 'fått', 'större', 'kärlek', 'av', 'sina', 'föräldrar', 'än', 'någon', 'annan', 'han', 'visste', 'och', 'sådan', 'kärlek', 'måste', 'vändas', 'i', 'välsignelse', '</s>', '<s>', 'då', 'prästen', 'sade', 'detta', 'kom', 'alla', 'människor', 'att', 'se', 'bort', 'mot', 'klara', 'gulla', 'och', 'de', 'förundrade', 'sig', 'över', 'vad', 'de', 'såg', '</s>', '<s>', 'prästens', 'ord', 'tycktes', 'redan', 'ha', 'gått', 'i', 'uppfyllelse', '</s>', '<s>', 'där', 'stod', 'klara', 'fina', 'gulleborg', 'ifrån', 'skrolycka', 'hon', 'som', 'var', 'uppkallad', 'efter', 'själva', 'solen', 'vid', 'sina', 'föräldrars', 'grav', 'och', 'lyste', 'som', 'en', 'förklarad', '</s>', '<s>', 'hon', 'var', 'likaså', 'vacker', 'som', 'den', 'söndagen', 'då', 'hon', 'gick', 'till', 'kyrkan', 'i', 'den', 'röda', 'klänningen', 'om', 'inte', 'vackrare', '</s>']\n"
     ]
    }
   ],
   "source": [
    "print(words[-101:])"
   ]
  },
  {
   "cell_type": "markdown",
   "metadata": {},
   "source": [
    "### Counting unigrams and bigrams"
   ]
  },
  {
   "cell_type": "markdown",
   "metadata": {},
   "source": [
    "Read and try programs to compute the frequency of unigrams and bigrams of the training set in the noteboo: [https://github.com/pnugues/pnlp/blob/main/notebooks/10_01_ngrams.ipynb](https://github.com/pnugues/pnlp/blob/main/notebooks/10_01_ngrams.ipynb)."
   ]
  },
  {
   "cell_type": "markdown",
   "metadata": {},
   "source": [
    "#### Unigrams"
   ]
  },
  {
   "cell_type": "code",
   "execution_count": 31,
   "metadata": {},
   "outputs": [],
   "source": [
    "def unigrams(words):\n",
    "    frequency = {}\n",
    "    for i in range(len(words)):\n",
    "        if words[i] in frequency:\n",
    "            frequency[words[i]] += 1\n",
    "        else:\n",
    "            frequency[words[i]] = 1\n",
    "    return frequency"
   ]
  },
  {
   "cell_type": "markdown",
   "metadata": {},
   "source": [
    "We compute the frequencies."
   ]
  },
  {
   "cell_type": "code",
   "execution_count": 32,
   "metadata": {},
   "outputs": [
    {
     "data": {
      "text/plain": [
       "[('<s>', 59047),\n",
       " ('selma', 52),\n",
       " ('lagerlöf', 270),\n",
       " ('nils', 87),\n",
       " ('holgerssons', 6),\n",
       " ('underbara', 23),\n",
       " ('resa', 317),\n",
       " ('genom', 688),\n",
       " ('sverige', 56),\n",
       " ('</s>', 59047),\n",
       " ('första', 525),\n",
       " ('bandet', 6),\n",
       " ('bokutgåva', 11),\n",
       " ('albert', 15),\n",
       " ('bonniers', 11),\n",
       " ('förlag', 11),\n",
       " ('stockholm', 77),\n",
       " ('den', 11624),\n",
       " ('kristliga', 2),\n",
       " ('dagvisan', 2)]"
      ]
     },
     "execution_count": 32,
     "metadata": {},
     "output_type": "execute_result"
    }
   ],
   "source": [
    "frequency = unigrams(words)\n",
    "list(frequency.items())[:20]"
   ]
  },
  {
   "cell_type": "markdown",
   "metadata": {},
   "source": [
    "#### Bigrams"
   ]
  },
  {
   "cell_type": "code",
   "execution_count": 33,
   "metadata": {},
   "outputs": [],
   "source": [
    "def bigrams(words):\n",
    "    bigrams = []\n",
    "    for i in range(len(words) - 1):\n",
    "        bigrams.append((words[i], words[i + 1]))\n",
    "    frequency_bigrams = {}\n",
    "    for i in range(len(words) - 1):\n",
    "        if bigrams[i] in frequency_bigrams:\n",
    "            frequency_bigrams[bigrams[i]] += 1\n",
    "        else:\n",
    "            frequency_bigrams[bigrams[i]] = 1\n",
    "    return frequency_bigrams"
   ]
  },
  {
   "cell_type": "code",
   "execution_count": 34,
   "metadata": {},
   "outputs": [
    {
     "data": {
      "text/plain": [
       "[(('<s>', 'selma'), 8),\n",
       " (('selma', 'lagerlöf'), 11),\n",
       " (('lagerlöf', 'nils'), 1),\n",
       " (('nils', 'holgerssons'), 6),\n",
       " (('holgerssons', 'underbara'), 4),\n",
       " (('underbara', 'resa'), 4),\n",
       " (('resa', 'genom'), 6),\n",
       " (('genom', 'sverige'), 5),\n",
       " (('sverige', '</s>'), 17),\n",
       " (('</s>', '<s>'), 59046),\n",
       " (('<s>', 'första'), 11),\n",
       " (('första', 'bandet'), 1),\n",
       " (('bandet', 'bokutgåva'), 2),\n",
       " (('bokutgåva', 'albert'), 11),\n",
       " (('albert', 'bonniers'), 11),\n",
       " (('bonniers', 'förlag'), 11),\n",
       " (('förlag', 'stockholm'), 10),\n",
       " (('stockholm', '</s>'), 24),\n",
       " (('<s>', 'den'), 1375),\n",
       " (('den', 'kristliga'), 2)]"
      ]
     },
     "execution_count": 34,
     "metadata": {},
     "output_type": "execute_result"
    }
   ],
   "source": [
    "frequency_bigrams = bigrams(words)\n",
    "list(frequency_bigrams.items())[:20]"
   ]
  },
  {
   "cell_type": "markdown",
   "metadata": {},
   "source": [
    "In the report, tell what is the possible number of bigrams and their real number? Explain why such a difference. What would be the possible number of 4-grams.\n",
    "\n",
    "Propose a solution to cope with bigrams unseen in the corpus."
   ]
  },
  {
   "cell_type": "markdown",
   "metadata": {},
   "source": [
    "### Computing the likelihood of a sentence\n",
    "You will now compute the likelihood of a sentence using a bigram and a trigram models. \n",
    "\n",
    "In both models, you will ignore the start of sentence symbol, `<s>`, as this factor is common to both models: $P(<s>)$. This will save you one multiplication."
   ]
  },
  {
   "cell_type": "markdown",
   "metadata": {},
   "source": [
    "#### Unigrams"
   ]
  },
  {
   "cell_type": "markdown",
   "metadata": {},
   "source": [
    "Write a program to compute a sentence's probability using unigrams. Your function will return the perplexity."
   ]
  },
  {
   "cell_type": "markdown",
   "metadata": {},
   "source": [
    "Your function should print and tabulate the results as in the examples below with the sentence _Det var en gång en katt som hette Nils_.\n",
    "\n",
    "Your figures might be slightly different because of differences in the sentence segmentation."
   ]
  },
  {
   "cell_type": "markdown",
   "metadata": {},
   "source": [
    "```\n",
    "=====================================================\n",
    "wi \t C(wi) \t #words \t P(wi)\n",
    "=====================================================\n",
    "det \t 21108 \t 1041631 \t 0.0202643738521607\n",
    "var \t 12090 \t 1041631 \t 0.01160679741674355\n",
    "en \t 13514 \t 1041631 \t 0.01297388422579589\n",
    "gång \t 1332 \t 1041631 \t 0.001278763784871994\n",
    "en \t 13514 \t 1041631 \t 0.01297388422579589\n",
    "katt \t 16 \t 1041631 \t 1.5360525944408337e-05\n",
    "som \t 16288 \t 1041631 \t 0.015637015411407686\n",
    "hette \t 97 \t 1041631 \t 9.312318853797554e-05\n",
    "nils \t 87 \t 1041631 \t 8.352285982272032e-05\n",
    "</s> \t 59047 \t 1041631 \t 0.056687060964967444\n",
    "=====================================================\n",
    "Prob. unigrams:\t 5.361459667285409e-27\n",
    "Geometric mean prob.: 0.0023600885848765307\n",
    "Entropy rate:\t 8.726943273141258\n",
    "Perplexity:\t 423.71290908655254\n",
    "```"
   ]
  },
  {
   "cell_type": "code",
   "execution_count": 56,
   "metadata": {},
   "outputs": [],
   "source": [
    "# Write your code\n",
    "def line():\n",
    "    print(\"=====================================================\")\n",
    "\n",
    "def unigram_lm(frequency, sent_words):\n",
    "    \"\"\"\n",
    "    Computing the sentence probs with a unigram model.\n",
    "    \"\"\"\n",
    "    print(\"Unigram model\")\n",
    "    line()\n",
    "    print(\"wi \\t C(wi) \\t #words \\t P(wi)\")\n",
    "    line()\n",
    "\n",
    "    nbr_words = len(words)\n",
    "    prob_uni = 1\n",
    "    \n",
    "    for word in sent_words:\n",
    "        prob = frequency[word]/nbr_words\n",
    "        prob_uni *= prob\n",
    "        print(f\"{word} \\t {frequency[word]} \\t {nbr_words} \\t {prob}\")\n",
    "\n",
    "    line()\n",
    "\n",
    "    n = len(sent_words)\n",
    "    geo_prob = prob_uni**(1/n)\n",
    "    entropy = (-1/n)*math.log2(prob_uni)\n",
    "    perplexity = 2**entropy\n",
    "\n",
    "    print(f\"Prob. unigrams: \\t {prob_uni}\")\n",
    "    print(f\"Geometric mean prob.: \\t {geo_prob}\")\n",
    "    print(f\"Entropy rate: \\t {entropy}\")\n",
    "    print(f\"Perplexity: \\t {perplexity}\")\n",
    "\n",
    "    return perplexity\n",
    "    "
   ]
  },
  {
   "cell_type": "code",
   "execution_count": 48,
   "metadata": {},
   "outputs": [
    {
     "data": {
      "text/plain": [
       "['det', 'var', 'en', 'gång', 'en', 'katt', 'som', 'hette', 'nils', '</s>']"
      ]
     },
     "execution_count": 48,
     "metadata": {},
     "output_type": "execute_result"
    }
   ],
   "source": [
    "sentence = 'det var en gång en katt som hette nils </s>'\n",
    "sent_words = sentence.split()\n",
    "sent_words"
   ]
  },
  {
   "cell_type": "code",
   "execution_count": 57,
   "metadata": {},
   "outputs": [
    {
     "name": "stdout",
     "output_type": "stream",
     "text": [
      "Unigram model\n",
      "=====================================================\n",
      "wi \t C(wi) \t #words \t P(wi)\n",
      "=====================================================\n",
      "det \t 21108 \t 1041560 \t 0.020265755213333847\n",
      "var \t 12090 \t 1041560 \t 0.011607588617074388\n",
      "en \t 13514 \t 1041560 \t 0.01297476861630631\n",
      "gång \t 1332 \t 1041560 \t 0.001278850954337724\n",
      "en \t 13514 \t 1041560 \t 0.01297476861630631\n",
      "katt \t 16 \t 1041560 \t 1.5361573025077767e-05\n",
      "som \t 16288 \t 1041560 \t 0.015638081339529167\n",
      "hette \t 97 \t 1041560 \t 9.312953646453396e-05\n",
      "nils \t 87 \t 1041560 \t 8.352855332386037e-05\n",
      "</s> \t 59047 \t 1041560 \t 0.056690925150735434\n",
      "=====================================================\n",
      "Prob. unigrams: \t 5.3651155337425844e-27\n",
      "Geometric mean prob.: \t 0.0023602494649885993\n",
      "Entropy rate: \t 8.726844932328587\n",
      "Perplexity: \t 423.68402782577465\n"
     ]
    }
   ],
   "source": [
    "perplexity_unigrams = unigram_lm(frequency, sent_words)"
   ]
  },
  {
   "cell_type": "code",
   "execution_count": 58,
   "metadata": {},
   "outputs": [
    {
     "data": {
      "text/plain": [
       "423"
      ]
     },
     "execution_count": 58,
     "metadata": {},
     "output_type": "execute_result"
    }
   ],
   "source": [
    "perplexity_unigrams = int(perplexity_unigrams)\n",
    "perplexity_unigrams"
   ]
  },
  {
   "cell_type": "markdown",
   "metadata": {},
   "source": [
    "#### Bigrams"
   ]
  },
  {
   "cell_type": "markdown",
   "metadata": {},
   "source": [
    "Write a program to compute the sentence probability using bigrams. Your function will tabulate and print the results as below. It will return the perplexity."
   ]
  },
  {
   "cell_type": "markdown",
   "metadata": {},
   "source": [
    "```\n",
    "=====================================================\n",
    "wi \t wi+1 \t Ci,i+1 \t C(i) \t P(wi+1|wi)\n",
    "=====================================================\n",
    "<s>\t det \t 5672 \t 59047 \t 0.09605907158704083\n",
    "det \t var \t 3839 \t 21108 \t 0.1818741709304529\n",
    "var \t en \t 712 \t 12090 \t 0.058891645988420185\n",
    "en \t gång \t 706 \t 13514 \t 0.052242119283705785\n",
    "gång \t en \t 20 \t 1332 \t 0.015015015015015015\n",
    "en \t katt \t 6 \t 13514 \t 0.0004439840165754033\n",
    "katt \t som \t 2 \t 16 \t 0.125\n",
    "som \t hette \t 45 \t 16288 \t 0.002762770137524558\n",
    "hette \t nils \t 0 \t 97 \t 0.0 \t *backoff: \t 8.352285982272032e-05\n",
    "nils \t </s> \t 2 \t 87 \t 0.022988505747126436\n",
    "=====================================================\n",
    "Prob. bigrams:\t 2.376007803503683e-19\n",
    "Geometric mean prob.: 0.013727289294133601\n",
    "Entropy rate:\t 6.186809422848149\n",
    "Perplexity:\t 72.84759420254609\n",
    "```"
   ]
  },
  {
   "cell_type": "code",
   "execution_count": 122,
   "metadata": {},
   "outputs": [],
   "source": [
    "# Write your code\n",
    "def bigram_lm(frequency, frequency_bigrams, sent_words):\n",
    "    print(\"Bigram model\")\n",
    "    line()\n",
    "    print(\"wi \\t wi+1 \\t Ci,i+1  C(i) \\t P(wi+1|wi)\")\n",
    "    line()\n",
    "\n",
    "    prob_bi = 1;\n",
    "\n",
    "    for i in range(len(sent_words)-1):\n",
    "        wi = sent_words[i]\n",
    "        wi1 = sent_words[i+1]\n",
    "\n",
    "        ci1 = frequency_bigrams[wi, wi1] if (wi, wi1) in frequency_bigrams else 0\n",
    "        prob = ci1/frequency[wi]\n",
    "\n",
    "        if ci1 == 0:\n",
    "            backoff = frequency[wi1]/len(words) # frequency of word i or word i+1 ???\n",
    "            print(f\"{wi} \\t {wi1} \\t {ci1} \\t {frequency[wi]} \\t {prob} \\t *backoff: \\t {backoff}\")\n",
    "            prob_bi *= backoff\n",
    "        else:\n",
    "            print(f\"{wi} \\t {wi1} \\t {ci1} \\t {frequency[wi]} \\t {prob}\")\n",
    "            prob_bi *= prob\n",
    "\n",
    "    line()\n",
    "\n",
    "    n = len(sent_words)-1\n",
    "    geo_prob = prob_bi**(1/10)\n",
    "    entropy = (-1/n)*math.log2(prob_bi)\n",
    "    perplexity = 2**entropy\n",
    "\n",
    "    print(f\"Prob. bigrams: \\t {prob_bi}\")\n",
    "    print(f\"Geometric mean prob.: \\t {geo_prob}\")\n",
    "    print(f\"Entropy rate: \\t {entropy}\")\n",
    "    print(f\"Perplexity: \\t {perplexity}\")\n",
    "\n",
    "    return perplexity"
   ]
  },
  {
   "cell_type": "code",
   "execution_count": 222,
   "metadata": {},
   "outputs": [
    {
     "name": "stdout",
     "output_type": "stream",
     "text": [
      "Bigram model\n",
      "=====================================================\n",
      "wi \t wi+1 \t Ci,i+1  C(i) \t P(wi+1|wi)\n",
      "=====================================================\n",
      "<s> \t det \t 5672 \t 59047 \t 0.09605907158704083\n",
      "det \t var \t 3839 \t 21108 \t 0.1818741709304529\n",
      "var \t en \t 712 \t 12090 \t 0.058891645988420185\n",
      "en \t gång \t 706 \t 13514 \t 0.052242119283705785\n",
      "gång \t en \t 20 \t 1332 \t 0.015015015015015015\n",
      "en \t katt \t 6 \t 13514 \t 0.0004439840165754033\n",
      "katt \t som \t 2 \t 16 \t 0.125\n",
      "som \t hette \t 45 \t 16288 \t 0.002762770137524558\n",
      "hette \t nils \t 0 \t 97 \t 0.0 \t *backoff: \t 8.352855332386037e-05\n",
      "nils \t </s> \t 2 \t 87 \t 0.022988505747126436\n",
      "=====================================================\n",
      "Prob. bigrams: \t 2.376169768780815e-19\n",
      "Geometric mean prob.: \t 0.013727382866049192\n",
      "Entropy rate: \t 6.186799588766881\n",
      "Perplexity: \t 72.84709764111099\n"
     ]
    }
   ],
   "source": [
    "sentence = '<s> det var en gång en katt som hette nils </s>'\n",
    "sent_words = sentence.split()\n",
    "perplexity_bigrams = bigram_lm(frequency, frequency_bigrams, sent_words)"
   ]
  },
  {
   "cell_type": "code",
   "execution_count": 223,
   "metadata": {},
   "outputs": [
    {
     "data": {
      "text/plain": [
       "72"
      ]
     },
     "execution_count": 223,
     "metadata": {},
     "output_type": "execute_result"
    }
   ],
   "source": [
    "perplexity_bigrams = int(perplexity_bigrams)\n",
    "perplexity_bigrams #72"
   ]
  },
  {
   "cell_type": "markdown",
   "metadata": {},
   "source": [
    "In addition to this sentence, _Det var en gång en katt som hette Nils_, write two other sentences that will form your test set and run your programs on them. You will insert them in your report."
   ]
  },
  {
   "cell_type": "code",
   "execution_count": 217,
   "metadata": {},
   "outputs": [
    {
     "name": "stdout",
     "output_type": "stream",
     "text": [
      "Bigram model\n",
      "=====================================================\n",
      "wi \t wi+1 \t Ci,i+1  C(i) \t P(wi+1|wi)\n",
      "=====================================================\n",
      "<s> \t hon \t 3310 \t 59047 \t 0.05605703930767016\n",
      "hon \t var \t 679 \t 13313 \t 0.051002779238338465\n",
      "var \t nog \t 96 \t 12090 \t 0.00794044665012407\n",
      "nog \t sina \t 2 \t 1468 \t 0.0013623978201634877\n",
      "sina \t tre \t 3 \t 1278 \t 0.002347417840375587\n",
      "tre \t alnar \t 1 \t 262 \t 0.003816793893129771\n",
      "alnar \t lång \t 2 \t 10 \t 0.2\n",
      "lång \t hon \t 1 \t 340 \t 0.0029411764705882353\n",
      "hon \t hade \t 1253 \t 13313 \t 0.0941185307594081\n",
      "hade \t ett \t 106 \t 13198 \t 0.008031519927261706\n",
      "ett \t stort \t 136 \t 5060 \t 0.026877470355731226\n",
      "stort \t grovt \t 1 \t 370 \t 0.002702702702702703\n",
      "grovt \t ansikte \t 1 \t 10 \t 0.1\n",
      "ansikte \t </s> \t 68 \t 293 \t 0.23208191126279865\n",
      "=====================================================\n",
      "Prob. bigrams: \t 2.077370209029164e-25\n",
      "Geometric mean prob.: \t 0.0034021338020781954\n",
      "Entropy rate: \t 5.856674573556587\n",
      "Perplexity: \t 57.94750231217328\n"
     ]
    }
   ],
   "source": [
    "sentence2 = '<s> hon var nog sina tre alnar lång hon hade ett stort grovt ansikte </s>'\n",
    "sent_words2 = sentence2.split()\n",
    "perplexity_bigrams2 = bigram_lm(frequency, frequency_bigrams, sent_words2)"
   ]
  },
  {
   "cell_type": "code",
   "execution_count": 218,
   "metadata": {},
   "outputs": [
    {
     "name": "stdout",
     "output_type": "stream",
     "text": [
      "Bigram model\n",
      "=====================================================\n",
      "wi \t wi+1 \t Ci,i+1  C(i) \t P(wi+1|wi)\n",
      "=====================================================\n",
      "<s> \t selma \t 8 \t 59047 \t 0.00013548529137805476\n",
      "selma \t skulle \t 1 \t 52 \t 0.019230769230769232\n",
      "skulle \t flyga \t 3 \t 5433 \t 0.0005521811154058532\n",
      "flyga \t långt \t 0 \t 88 \t 0.0 \t *backoff: \t 0.0005443757440761934\n",
      "långt \t bort \t 16 \t 567 \t 0.02821869488536155\n",
      "bort \t </s> \t 75 \t 1058 \t 0.07088846880907372\n",
      "=====================================================\n",
      "Prob. bigrams: \t 1.5666848405165982e-15\n",
      "Geometric mean prob.: \t 0.03307487138880995\n",
      "Entropy rate: \t 8.196867738600032\n",
      "Perplexity: \t 293.4290177338257\n"
     ]
    }
   ],
   "source": [
    "sentence3 = '<s> selma skulle flyga långt bort </s>'\n",
    "sent_words3 = sentence3.split()\n",
    "perplexity_bigrams3 = bigram_lm(frequency, frequency_bigrams, sent_words3)"
   ]
  },
  {
   "cell_type": "markdown",
   "metadata": {},
   "source": [
    "### Online prediction of words"
   ]
  },
  {
   "cell_type": "markdown",
   "metadata": {},
   "source": [
    "You will now carry out an online prediction of words. You will consider two cases:\n",
    "1. Prediction of the current word a user is typing;\n",
    "2. Prediction of the next word.\n",
    "\n",
    "Ideally, you would write a loop that reads the words and apply the models while typing. As the Jupyter labs are not designed for interactive input and output, we will simplify the experimental settings with constant strings at a given time of the input.  \n",
    "\n",
    "We will assume the user is typing the phrase: _Det var en gång_. "
   ]
  },
  {
   "cell_type": "markdown",
   "metadata": {},
   "source": [
    "#### Trigrams"
   ]
  },
  {
   "cell_type": "markdown",
   "metadata": {},
   "source": [
    "To have a more accurate prediction, you will use a trigram counting function. Program this function following the model of your bigram counting function."
   ]
  },
  {
   "cell_type": "code",
   "execution_count": 135,
   "metadata": {},
   "outputs": [],
   "source": [
    "# Write your code\n",
    "def trigrams(words):\n",
    "    trigrams = []\n",
    "    for i in range(len(words)-2):\n",
    "        trigrams.append((words[i], words[i+1], words[i+2]))\n",
    "    frequency_trigrams = {}\n",
    "    for i in range(len(words)-2):\n",
    "        if trigrams[i] in frequency_trigrams:\n",
    "            frequency_trigrams[trigrams[i]] += 1\n",
    "        else:\n",
    "            frequency_trigrams[trigrams[i]] = 1\n",
    "    return frequency_trigrams\n"
   ]
  },
  {
   "cell_type": "code",
   "execution_count": 136,
   "metadata": {},
   "outputs": [
    {
     "data": {
      "text/plain": [
       "330"
      ]
     },
     "execution_count": 136,
     "metadata": {},
     "output_type": "execute_result"
    }
   ],
   "source": [
    "frequency_trigrams = trigrams(words)\n",
    "frequency_trigrams[('det', 'var', 'en')]"
   ]
  },
  {
   "cell_type": "markdown",
   "metadata": {},
   "source": [
    "#### Prediction"
   ]
  },
  {
   "cell_type": "markdown",
   "metadata": {},
   "source": [
    "The user starts typing _Det var en gång_. After the 2nd character, your program tries to help the user with suggested words."
   ]
  },
  {
   "cell_type": "code",
   "execution_count": 140,
   "metadata": {},
   "outputs": [
    {
     "data": {
      "text/plain": [
       "'de'"
      ]
     },
     "execution_count": 140,
     "metadata": {},
     "output_type": "execute_result"
    }
   ],
   "source": [
    "starting_text = 'De'.lower()\n",
    "starting_text"
   ]
  },
  {
   "cell_type": "markdown",
   "metadata": {},
   "source": [
    "Write a program to rank the five first candidates at this point. Assign these predictions in a list that you will call `current_word_predictions_1`. Note that you are starting a sentence and you can then use the bigram frequencies. Write a sorting key that will enable you to have a deterministic ranking of the words or bigrams with identical frequencies: When two words have the same frequency, you will sort them by alphabetic order. You can do this with a tuple."
   ]
  },
  {
   "cell_type": "code",
   "execution_count": 141,
   "metadata": {},
   "outputs": [],
   "source": [
    "cand_nbr = 5"
   ]
  },
  {
   "cell_type": "code",
   "execution_count": 160,
   "metadata": {},
   "outputs": [
    {
     "name": "stdout",
     "output_type": "stream",
     "text": [
      "[('det', 5672), ('de', 2071), ('den', 1375), ('detta', 298), ('denna', 80)]\n"
     ]
    }
   ],
   "source": [
    "# Write your code here\n",
    "candidates = {}\n",
    "for bigram in frequency_bigrams.keys():\n",
    "    if bigram[0] == '<s>' and bigram[1].startswith(starting_text):\n",
    "        candidates[bigram[1]] = frequency_bigrams[bigram]\n",
    "sorted_candidates = sorted(candidates.items(), key=lambda x: (-x[1], x[0]))[:cand_nbr]\n",
    "print(sorted_candidates)\n",
    "current_word_predictions_1 = [i[0] for i in sorted_candidates]  "
   ]
  },
  {
   "cell_type": "code",
   "execution_count": 161,
   "metadata": {},
   "outputs": [
    {
     "data": {
      "text/plain": [
       "['det', 'de', 'den', 'detta', 'denna']"
      ]
     },
     "execution_count": 161,
     "metadata": {},
     "output_type": "execute_result"
    }
   ],
   "source": [
    "current_word_predictions_1"
   ]
  },
  {
   "cell_type": "markdown",
   "metadata": {},
   "source": [
    "Let us now suppose that the user has typed: _Det var en_. After detecting a space, your program starts predicting a next possible word."
   ]
  },
  {
   "cell_type": "code",
   "execution_count": 162,
   "metadata": {},
   "outputs": [
    {
     "data": {
      "text/plain": [
       "'det var en '"
      ]
     },
     "execution_count": 162,
     "metadata": {},
     "output_type": "execute_result"
    }
   ],
   "source": [
    "current_text = \"Det var en \".lower()\n",
    "current_text"
   ]
  },
  {
   "cell_type": "markdown",
   "metadata": {},
   "source": [
    "Tokenize this text and return a list of tokens. Call it `tokens`."
   ]
  },
  {
   "cell_type": "code",
   "execution_count": 163,
   "metadata": {},
   "outputs": [],
   "source": [
    "# Write your code here\n",
    "tokens = tokenize(current_text)"
   ]
  },
  {
   "cell_type": "code",
   "execution_count": 164,
   "metadata": {},
   "outputs": [
    {
     "data": {
      "text/plain": [
       "['det', 'var', 'en']"
      ]
     },
     "execution_count": 164,
     "metadata": {},
     "output_type": "execute_result"
    }
   ],
   "source": [
    "tokens"
   ]
  },
  {
   "cell_type": "markdown",
   "metadata": {},
   "source": [
    "Write a program to propose the five next possible words ranked by frequency using a trigram model. Assign these predictions to a variable that you will call `next_word_predictions`. Write a sorting key that will enable you have a deterministic ranking of the words or bigrams with identical frequencies: When two words have the same frequency, you will sort them by alphabetic order. You can do this with a tuple."
   ]
  },
  {
   "cell_type": "code",
   "execution_count": 172,
   "metadata": {},
   "outputs": [
    {
     "name": "stdout",
     "output_type": "stream",
     "text": [
      "[('stor', 34), ('liten', 26), ('gammal', 19), ('god', 17), ('sådan', 17)]\n"
     ]
    }
   ],
   "source": [
    "# Write your code here\n",
    "candidates = {}\n",
    "for trigram in frequency_trigrams.keys():\n",
    "    if trigram[0] == tokens[1] and trigram[1] == tokens[2]:\n",
    "        candidates[trigram[2]] = frequency_trigrams[trigram]\n",
    "sorted_candidates = sorted(candidates.items(), key=lambda x: (-x[1], x[0]))[:cand_nbr]\n",
    "print(sorted_candidates)\n",
    "next_word_predictions = [i[0] for i in sorted_candidates] "
   ]
  },
  {
   "cell_type": "code",
   "execution_count": 173,
   "metadata": {},
   "outputs": [
    {
     "data": {
      "text/plain": [
       "['stor', 'liten', 'gammal', 'god', 'sådan']"
      ]
     },
     "execution_count": 173,
     "metadata": {},
     "output_type": "execute_result"
    }
   ],
   "source": [
    "next_word_predictions"
   ]
  },
  {
   "cell_type": "markdown",
   "metadata": {},
   "source": [
    "Finally, let us suppose that the user has typed _Det var en g_, rank the five possible candidates. Assign these predictions in a list that you will call `current_word_predictions_2`"
   ]
  },
  {
   "cell_type": "code",
   "execution_count": 183,
   "metadata": {},
   "outputs": [],
   "source": [
    "current_text = \"Det var en g\".lower()\n",
    "text = tokenize(current_text)"
   ]
  },
  {
   "cell_type": "code",
   "execution_count": 184,
   "metadata": {},
   "outputs": [
    {
     "name": "stdout",
     "output_type": "stream",
     "text": [
      "[('gammal', 19), ('god', 17), ('gång', 10), ('ganska', 3), ('glädje', 2)]\n"
     ]
    }
   ],
   "source": [
    "# Write your code here\n",
    "candidates = {}\n",
    "for trigram in frequency_trigrams.keys():\n",
    "    if trigram[0] == text[1] and trigram[1] == text[2] and trigram[2].startswith(text[len(text)-1]):\n",
    "        candidates[trigram[2]] = frequency_trigrams[trigram]\n",
    "sorted_candidates = sorted(candidates.items(), key=lambda x: (-x[1], x[0]))[:cand_nbr]\n",
    "print(sorted_candidates)\n",
    "current_word_predictions_2 = [i[0] for i in sorted_candidates] "
   ]
  },
  {
   "cell_type": "code",
   "execution_count": 185,
   "metadata": {},
   "outputs": [
    {
     "data": {
      "text/plain": [
       "['gammal', 'god', 'gång', 'ganska', 'glädje']"
      ]
     },
     "execution_count": 185,
     "metadata": {},
     "output_type": "execute_result"
    }
   ],
   "source": [
    "current_word_predictions_2"
   ]
  },
  {
   "cell_type": "markdown",
   "metadata": {},
   "source": [
    "## Turning in your assignment"
   ]
  },
  {
   "cell_type": "markdown",
   "metadata": {},
   "source": [
    "Now your are done with the program. To complete this assignment, you will:\n",
    "1. Write a short individual report on your program. I suggest that you use this structure for your report:\n",
    "      1. Objectives and dataset\n",
    "      2. Method and program structure, where you should outline your program and possibly describe difficult parts. In this section, you will include the __regular expression you used to segment the text__.\n",
    "      3. Results. You will include the __unigram and bigram tables__ for _Det var en gång en katt som hette Nils_ and __two other sentences__. You will also include the results of your __next word prediction__.\n",
    "      4. Conclusion\n",
    "      5. Answer to possible questions\n",
    "2. Execute the Jupyter notebook by Peter Norvig here: <a href=\"http://nbviewer.jupyter.org/url/norvig.com/ipython/How%20to%20Do%20Things%20with%20Words.ipynb\">https://nbviewer.jupyter.org/url/norvig.com/ipython/How to Do Things with Words.ipynb</a>. Just run all the cells and be sure that you understand the code. You will find the data here: <a href=\"http://norvig.com/ngrams/\">http://norvig.com/ngrams/</a>.\n",
    "3. In your report, after the description of your program and conclusion, you will describe one experiment with Norvig's notebook and a __long string of words your will create yourself or copy from a text you like__. You will remove all the punctuation and white spaces from this string. You will set this string in lowercase letters. You will just add a cell at the end of Sect. 7 in Norvig's notebook, where you will use your string and run the notebook cell with the <tt>segment()</tt> and <tt>segment2()</tt> functions. __You will comment the segmentation results you obtained__ with the unigram and bigram models.\n",
    "\n",
    "Submit your report as well as your notebook (for archiving purposes) to Canvas: https://canvas.education.lu.se/. To write your report, you can either\n",
    "1. Use Latex and Overleaf (<a href=\"https://www.overleaf.com/\">www.overleaf.com</a>). This will probably help you structure your text. You will then upload a PDF file in Canvas.\n",
    "2. You can also write directly your text in Canvas.\n",
    "\n",
    "The submission deadline is September 27, 2024. You will have only three submission attempts. The deadline for the second and third ones are one week after you are noticed of your result."
   ]
  }
 ],
 "metadata": {
  "kernelspec": {
   "display_name": "Python 3.9.12 ('base')",
   "language": "python",
   "name": "python3"
  },
  "language_info": {
   "codemirror_mode": {
    "name": "ipython",
    "version": 3
   },
   "file_extension": ".py",
   "mimetype": "text/x-python",
   "name": "python",
   "nbconvert_exporter": "python",
   "pygments_lexer": "ipython3",
   "version": "3.11.5"
  },
  "vscode": {
   "interpreter": {
    "hash": "b97b11a820675205aae8f1d7f2a3f22bbd3a2c30189f44042310baf5b4cd1987"
   }
  }
 },
 "nbformat": 4,
 "nbformat_minor": 4
}
